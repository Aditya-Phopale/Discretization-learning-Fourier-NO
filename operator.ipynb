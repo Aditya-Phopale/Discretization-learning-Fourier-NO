{
 "cells": [
  {
   "cell_type": "code",
   "execution_count": 11,
   "metadata": {},
   "outputs": [],
   "source": [
    "import numpy as np\n",
    "import torch\n",
    "from torch.utils.data import Dataset, DataLoader\n",
    "import torch.nn as nn\n",
    "import torch.fft\n",
    "\n",
    "class ConvectionDiffusionDataset(Dataset):\n",
    "    def __init__(self, data_folder, n_steps):\n",
    "        self.data_folder = data_folder\n",
    "        self.n_steps = n_steps  \n",
    "        self.data = self.load_data()\n",
    "\n",
    "    def load_data(self):\n",
    "        data = np.load(f'{self.data_folder}/simulation_data.npy')\n",
    "        return np.array(data)\n",
    "\n",
    "    def __len__(self):\n",
    "        return self.data.shape[0]-1\n",
    "\n",
    "    def __getitem__(self, idx):\n",
    "        u_t = self.data[idx]      \n",
    "        u_t1 = self.data[idx + 1]  \n",
    "        return torch.tensor(u_t[None,1:-1,1:-1], dtype=torch.float32), torch.tensor(u_t1[None,1:-1,1:-1], dtype=torch.float32)\n",
    "\n",
    "\n",
    "class FourierLayer(nn.Module):\n",
    "    def __init__(self, in_channels, out_channels, modes):\n",
    "        super(FourierLayer, self).__init__()\n",
    "        self.modes = modes\n",
    "        # self.weights = nn.Parameter(torch.randn(out_channels, in_channels, dtype=torch.cfloat))\n",
    "        self.weights = nn.Conv2d(in_channels, out_channels, kernel_size=1, bias=False, dtype=torch.cfloat)\n",
    "\n",
    "    def forward(self, x):\n",
    "        x_ft = torch.fft.rfft2(x)\n",
    "        x_ft = x_ft[:,:,:self.modes, :self.modes]\n",
    "        out_ft = torch.zeros_like(x_ft)\n",
    "\n",
    "        out_ft = self.weights(x_ft) #* self.weights\n",
    "        \n",
    "        x_out = torch.fft.irfft2(out_ft, s=x.size()[-2:])\n",
    "        return x_out\n",
    "\n",
    "class NeuralOperator(nn.Module):\n",
    "    def __init__(self, modes, width):\n",
    "        super(NeuralOperator, self).__init__()\n",
    "        self.lifting_layer = nn.Conv2d(1, width, kernel_size=1)\n",
    "        self.fourier_layer1 = FourierLayer(width, width, modes)\n",
    "        self.fourier_layer2 = FourierLayer(width, width, modes)\n",
    "        self.fourier_layer3 = FourierLayer(width, width, modes)\n",
    "        self.fourier_layer4 = FourierLayer(width, width, modes)\n",
    "        self.projection_layer = nn.Conv2d(width, 1, kernel_size=1)\n",
    "        # self.conv1 = nn.Conv2d(width, width, kernel_size=1)\n",
    "        # self.conv2 = nn.Conv2d(width, width, kernel_size=1)\n",
    "        # self.conv3 = nn.Conv2d(width, 1, kernel_size=1)\n",
    "\n",
    "    def forward(self, x):\n",
    "        x = self.lifting_layer(x)\n",
    "        x = self.fourier_layer1(x)\n",
    "        x = torch.relu(x)\n",
    "        x = self.fourier_layer2(x)\n",
    "        x = torch.relu(x)\n",
    "        x = self.fourier_layer3(x)\n",
    "        x = torch.relu(x)\n",
    "        x = self.fourier_layer4(x)\n",
    "        x = torch.relu(x)\n",
    "        x = self.projection_layer(x)\n",
    "        # x = torch.relu(self.conv1(x))\n",
    "        # x = torch.relu(self.conv2(x))\n",
    "        # x = self.conv3(x) \n",
    "        return x \n"
   ]
  },
  {
   "cell_type": "code",
   "execution_count": 12,
   "metadata": {},
   "outputs": [],
   "source": [
    "data_folder = './dataset'\n",
    "n_steps = 500 \n",
    "dataset = ConvectionDiffusionDataset(data_folder, n_steps)\n",
    "dataloader = DataLoader(dataset, batch_size=16, shuffle=True)\n",
    "\n",
    "modes = 12   \n",
    "width = 32   \n",
    "model = NeuralOperator(modes, width)\n",
    "\n",
    "criterion = nn.MSELoss()\n",
    "optimizer = torch.optim.Adam(model.parameters(), lr=1e-4)"
   ]
  },
  {
   "cell_type": "code",
   "execution_count": 13,
   "metadata": {},
   "outputs": [
    {
     "name": "stdout",
     "output_type": "stream",
     "text": [
      "Epoch [1/50], Loss: 0.0119\n",
      "Epoch [2/50], Loss: 0.0106\n",
      "Epoch [3/50], Loss: 0.0091\n",
      "Epoch [4/50], Loss: 0.0070\n",
      "Epoch [5/50], Loss: 0.0053\n",
      "Epoch [6/50], Loss: 0.0042\n",
      "Epoch [7/50], Loss: 0.0034\n",
      "Epoch [8/50], Loss: 0.0029\n",
      "Epoch [9/50], Loss: 0.0024\n",
      "Epoch [10/50], Loss: 0.0020\n",
      "Epoch [11/50], Loss: 0.0017\n",
      "Epoch [12/50], Loss: 0.0015\n",
      "Epoch [13/50], Loss: 0.0014\n",
      "Epoch [14/50], Loss: 0.0013\n",
      "Epoch [15/50], Loss: 0.0011\n",
      "Epoch [16/50], Loss: 0.0011\n",
      "Epoch [17/50], Loss: 0.0010\n",
      "Epoch [18/50], Loss: 0.0009\n",
      "Epoch [19/50], Loss: 0.0008\n",
      "Epoch [20/50], Loss: 0.0008\n",
      "Epoch [21/50], Loss: 0.0007\n",
      "Epoch [22/50], Loss: 0.0007\n",
      "Epoch [23/50], Loss: 0.0007\n",
      "Epoch [24/50], Loss: 0.0006\n",
      "Epoch [25/50], Loss: 0.0006\n",
      "Epoch [26/50], Loss: 0.0005\n",
      "Epoch [27/50], Loss: 0.0005\n",
      "Epoch [28/50], Loss: 0.0005\n",
      "Epoch [29/50], Loss: 0.0004\n",
      "Epoch [30/50], Loss: 0.0004\n",
      "Epoch [31/50], Loss: 0.0003\n",
      "Epoch [32/50], Loss: 0.0003\n",
      "Epoch [33/50], Loss: 0.0003\n",
      "Epoch [34/50], Loss: 0.0003\n",
      "Epoch [35/50], Loss: 0.0003\n",
      "Epoch [36/50], Loss: 0.0003\n",
      "Epoch [37/50], Loss: 0.0002\n",
      "Epoch [38/50], Loss: 0.0002\n",
      "Epoch [39/50], Loss: 0.0002\n",
      "Epoch [40/50], Loss: 0.0002\n",
      "Epoch [41/50], Loss: 0.0002\n",
      "Epoch [42/50], Loss: 0.0002\n",
      "Epoch [43/50], Loss: 0.0002\n",
      "Epoch [44/50], Loss: 0.0002\n",
      "Epoch [45/50], Loss: 0.0002\n",
      "Epoch [46/50], Loss: 0.0002\n",
      "Epoch [47/50], Loss: 0.0002\n",
      "Epoch [48/50], Loss: 0.0001\n",
      "Epoch [49/50], Loss: 0.0001\n",
      "Epoch [50/50], Loss: 0.0001\n"
     ]
    }
   ],
   "source": [
    "epochs = 50\n",
    "for epoch in range(epochs):\n",
    "    model.train()\n",
    "    running_loss = 0.0\n",
    "    \n",
    "    for u_t, u_t1 in dataloader:\n",
    "        optimizer.zero_grad()\n",
    "        # print(u_t.shape)\n",
    "        # print(torch.fft.rfft2(u_t).shape)\n",
    "        output = model(u_t)  # Predict u_t1 from u_t\n",
    "        loss = criterion(output, u_t1)\n",
    "        loss.backward()\n",
    "        optimizer.step()\n",
    "        \n",
    "        running_loss += loss.item()\n",
    "    \n",
    "    print(f'Epoch [{epoch+1}/{epochs}], Loss: {running_loss / len(dataloader):.4f}')\n"
   ]
  },
  {
   "cell_type": "code",
   "execution_count": 14,
   "metadata": {},
   "outputs": [
    {
     "name": "stdout",
     "output_type": "stream",
     "text": [
      "Error:  0.0030916512478142977\n"
     ]
    }
   ],
   "source": [
    "model.eval()\n",
    "with torch.no_grad():\n",
    "    u_t, u_t1_true = dataset[0]  \n",
    "    u_t = u_t.unsqueeze(0) \n",
    "    u_t1_pred = model(u_t).squeeze(0)  \n",
    "\n",
    "    # print(u_t1_pred.shape)\n",
    "    # print(u_t1_true.shape)\n",
    "    error = criterion(u_t1_true, u_t1_pred)\n",
    "\n",
    "    print(\"Error: \", error.item())"
   ]
  },
  {
   "cell_type": "code",
   "execution_count": 18,
   "metadata": {},
   "outputs": [
    {
     "data": {
      "image/png": "[encoded data removed]",
      "text/plain": [
       "<Figure size 600x500 with 2 Axes>"
      ]
     },
     "metadata": {},
     "output_type": "display_data"
    }
   ],
   "source": [
    "import matplotlib.pyplot as plt\n",
    "\n",
    "domain = [-1,1]\n",
    "dim = 2\n",
    "n_dx_elements = 100\n",
    "dx = (domain[1] - domain[0])/(n_dx_elements)\n",
    "x = np.linspace(domain[0]-dx, domain[1]+dx, n_dx_elements+2)\n",
    "y = np.linspace(domain[0]-dx, domain[1]+dx, n_dx_elements+2)\n",
    "mesh_x, mesh_y = np.meshgrid(x[1:-1],y[1:-1])\n",
    "\n",
    "\n",
    "fig, ax = plt.subplots(figsize=(6, 5))\n",
    "contour1 = ax.contourf(mesh_x, mesh_y, u_t1_pred.squeeze(0).numpy(), levels=20, cmap='viridis')\n",
    "colorbar = plt.colorbar(contour1, ax=ax)"
   ]
  },
  {
   "cell_type": "code",
   "execution_count": null,
   "metadata": {},
   "outputs": [],
   "source": []
  }
 ],
 "metadata": {
  "kernelspec": {
   "display_name": "Python 3",
   "language": "python",
   "name": "python3"
  },
  "language_info": {
   "codemirror_mode": {
    "name": "ipython",
    "version": 3
   },
   "file_extension": ".py",
   "mimetype": "text/x-python",
   "name": "python",
   "nbconvert_exporter": "python",
   "pygments_lexer": "ipython3",
   "version": "3.10.12"
  }
 },
 "nbformat": 4,
 "nbformat_minor": 2
}
